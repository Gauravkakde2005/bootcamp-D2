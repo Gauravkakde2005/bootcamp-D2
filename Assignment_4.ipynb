{
 "cells": [
  {
   "cell_type": "code",
   "execution_count": 42,
   "metadata": {},
   "outputs": [
    {
     "name": "stdout",
     "output_type": "stream",
     "text": [
      "4.10.0\n"
     ]
    }
   ],
   "source": [
    "import cv2\n",
    "print(cv2.__version__)"
   ]
  },
  {
   "cell_type": "code",
   "execution_count": 43,
   "metadata": {},
   "outputs": [],
   "source": [
    "img = cv2.imread(\"C:/Users/hp/Downloads/tiger.jpeg\")#load image\n",
    "cv2.imshow('Image', img) #display image\n",
    "cv2.waitKey(0) #wait for a key press to close\n",
    "cv2.destroyAllWindows()"
   ]
  },
  {
   "cell_type": "code",
   "execution_count": 44,
   "metadata": {},
   "outputs": [],
   "source": [
    "#Reszie an image \n",
    "resized_img = cv2.resize(img , (500,500))\n",
    "cv2.imshow(\"resized image\", resized_img)\n",
    "cv2.waitKey(0)\n",
    "cv2.destroyAllWindows()"
   ]
  },
  {
   "cell_type": "code",
   "execution_count": 45,
   "metadata": {},
   "outputs": [],
   "source": [
    "#gray scale image \n",
    "gray_img = cv2.cvtColor(resized_img,cv2.COLOR_BGR2GRAY)\n",
    "cv2.imshow(\"Gray image\", gray_img)\n",
    "cv2.waitKey(0)\n",
    "cv2.destroyAllWindows()"
   ]
  },
  {
   "cell_type": "code",
   "execution_count": 46,
   "metadata": {},
   "outputs": [],
   "source": [
    "#cropping the image\n",
    "cropped_img = resized_img[100:200 , 100:400]\n",
    "cv2.imshow(\"cropped Image\" , cropped_img)\n",
    "cv2.waitKey(0)\n",
    "cv2.destroyAllWindows()\n"
   ]
  },
  {
   "cell_type": "code",
   "execution_count": 47,
   "metadata": {},
   "outputs": [],
   "source": [
    "#rotating an image\n",
    "(h,w) = resized_img.shape[:2]\n",
    "center=(w // 2, h // 2)\n",
    "M = cv2.getRotationMatrix2D(center , 37 , 1.0)\n",
    "rotated_img = cv2.warpAffine(resized_img, M , ( w , h))\n",
    "cv2.imshow('rotated image' , rotated_img)\n",
    "cv2.waitKey(0)\n",
    "cv2.destroyAllWindows()"
   ]
  },
  {
   "cell_type": "code",
   "execution_count": 48,
   "metadata": {},
   "outputs": [],
   "source": [
    "#Gaussian Blurring \n",
    "blurred_img = cv2.GaussianBlur(resized_img , (5,5) , 0)\n",
    "cv2.imshow(\"Guassian blurred image \" , blurred_img)\n",
    "cv2.waitKey(0)\n",
    "cv2.destroyAllWindows()"
   ]
  },
  {
   "cell_type": "code",
   "execution_count": 49,
   "metadata": {},
   "outputs": [],
   "source": [
    "median_blurred_img = cv2.medianBlur(resized_img , 5)\n",
    "cv2.imshow(\"median blurred image \" , median_blurred_img)\n",
    "cv2.imshow(\"median blurred image\" , median_blurred_img)\n",
    "cv2.waitKey(0)\n",
    "cv2.destroyAllWindows()"
   ]
  },
  {
   "cell_type": "code",
   "execution_count": 50,
   "metadata": {},
   "outputs": [],
   "source": [
    "bilateral_blurred_img = cv2.bilateralFilter(resized_img,9,75,75)\n",
    "cv2.imshow(\"bilateral_blurred_image\" , bilateral_blurred_img)\n",
    "cv2.waitKey(0)\n",
    "cv2.destroyAllWindows()"
   ]
  },
  {
   "cell_type": "code",
   "execution_count": 51,
   "metadata": {},
   "outputs": [],
   "source": [
    "avg_blurred_img = cv2.blur(resized_img , (5,5))\n",
    "cv2.imshow(\"Average blurred image\",avg_blurred_img)\n",
    "cv2.waitKey(0)\n",
    "cv2.destroyAllWindows()"
   ]
  },
  {
   "cell_type": "code",
   "execution_count": 52,
   "metadata": {},
   "outputs": [],
   "source": [
    "#image Thresholding Techniques\n",
    "_, thresh_img = cv2.threshold(gray_img , 127 , 255 , cv2.THRESH_TRUNC)\n",
    "cv2.imshow(\"binary Threshold\" , thresh_img)\n",
    "cv2.waitKey(0)\n",
    "cv2.destroyAllWindows()"
   ]
  },
  {
   "cell_type": "code",
   "execution_count": 53,
   "metadata": {},
   "outputs": [],
   "source": [
    "#image Thresholding Techniques\n",
    "_, thresh_img = cv2.threshold(gray_img , 127 , 255 , cv2.THRESH_TOZERO)\n",
    "cv2.imshow(\"binary Threshold\" , thresh_img)\n",
    "cv2.waitKey(0)\n",
    "cv2.destroyAllWindows()"
   ]
  },
  {
   "cell_type": "code",
   "execution_count": 54,
   "metadata": {},
   "outputs": [],
   "source": [
    "#adapter threesholding\n",
    "adaptive_thresh_img=cv2.adaptiveThreshold(gray_img,255,cv2.ADAPTIVE_THRESH_GAUSSIAN_C,cv2.THRESH_BINARY,11,2)\n",
    "cv2.imshow('Adaptive Threshold',adaptive_thresh_img)\n",
    "cv2.waitKey(0)\n",
    "cv2.destroyAllWindows()"
   ]
  },
  {
   "cell_type": "code",
   "execution_count": 55,
   "metadata": {},
   "outputs": [],
   "source": [
    "edges=cv2.Canny(resized_img,100,200)\n",
    "cv2.imshow(\"Canny Edges\",edges)\n",
    "cv2.waitKey(0)\n",
    "cv2.destroyAllWindows()\n"
   ]
  }
 ],
 "metadata": {
  "kernelspec": {
   "display_name": "Python 3",
   "language": "python",
   "name": "python3"
  },
  "language_info": {
   "codemirror_mode": {
    "name": "ipython",
    "version": 3
   },
   "file_extension": ".py",
   "mimetype": "text/x-python",
   "name": "python",
   "nbconvert_exporter": "python",
   "pygments_lexer": "ipython3",
   "version": "3.10.0"
  }
 },
 "nbformat": 4,
 "nbformat_minor": 2
}
